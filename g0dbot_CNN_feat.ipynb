{
 "cells": [
  {
   "cell_type": "markdown",
   "metadata": {},
   "source": [
    "# Feature CNN"
   ]
  },
  {
   "cell_type": "code",
   "execution_count": 1,
   "metadata": {},
   "outputs": [
    {
     "name": "stdout",
     "output_type": "stream",
     "text": [
      "0\n",
      "0\n",
      "0\n",
      "0      0\n",
      "1      0\n",
      "2      0\n",
      "3      0\n",
      "4      0\n",
      "      ..\n",
      "995    1\n",
      "996    1\n",
      "997    1\n",
      "998    1\n",
      "999    1\n",
      "Name: gen, Length: 1000, dtype: int64\n"
     ]
    }
   ],
   "source": [
    "import pandas as pd\n",
    "from sklearn.model_selection import train_test_split\n",
    "from sklearn.preprocessing import StandardScaler\n",
    "import numpy as np\n",
    "\n",
    "column_names = ['style', 'gen'] + [f'feature_{i}' for i in range(256)]\n",
    "\n",
    "# Step 1: Load the CSV file\n",
    "ai_ld_tr = pd.read_csv('train/AI_LD_realism.csv', header=None)\n",
    "ai_ld_tr.columns = column_names\n",
    "print(ai_ld_tr.isna().sum().sum())\n",
    "\n",
    "ai_sd_tr = pd.read_csv('train/AI_SD_realism.csv', header=None)\n",
    "ai_sd_tr.columns = column_names\n",
    "print(ai_sd_tr.isna().sum().sum())\n",
    "\n",
    "hu_tr = pd.read_csv('train/realism.csv', header=None)\n",
    "hu_tr.columns = column_names\n",
    "print(hu_tr.isna().sum().sum())\n",
    "\n",
    "#sample required number of rows\n",
    "ai_ld_tr = ai_ld_tr.sample(n=250, random_state=None)\n",
    "ai_sd_tr = ai_sd_tr.sample(n=250, random_state=None)\n",
    "hu_tr = hu_tr.sample(n=500, random_state=None)  # Adjusted to sample 500 rows\n",
    "\n",
    "train = pd.concat([ai_ld_tr, ai_sd_tr, hu_tr], ignore_index=True)\n",
    "train.drop(\"style\", axis=1, inplace=True)\n",
    "train['gen'] = train['gen'].apply(lambda x: 1 if x == 'HU' else 0)\n",
    "print(train.iloc[:, 0])\n"
   ]
  },
  {
   "cell_type": "code",
   "execution_count": 2,
   "metadata": {},
   "outputs": [
    {
     "name": "stdout",
     "output_type": "stream",
     "text": [
      "0\n",
      "0\n",
      "0\n",
      "0      0\n",
      "1      0\n",
      "2      0\n",
      "3      0\n",
      "4      0\n",
      "      ..\n",
      "995    1\n",
      "996    1\n",
      "997    1\n",
      "998    1\n",
      "999    1\n",
      "Name: gen, Length: 1000, dtype: int64\n"
     ]
    }
   ],
   "source": [
    "ai_ld_ts = pd.read_csv('test/AI_LD_realism.csv', header=None)\n",
    "ai_ld_ts.columns = column_names\n",
    "print(ai_ld_ts.isna().sum().sum())\n",
    "\n",
    "ai_sd_ts = pd.read_csv('test/AI_SD_realism.csv', header=None)\n",
    "ai_sd_ts.columns = column_names\n",
    "print(ai_sd_ts.isna().sum().sum())\n",
    "\n",
    "hu_ts = pd.read_csv('test/realism.csv', header=None)\n",
    "hu_ts.columns = column_names\n",
    "print(hu_ts.isna().sum().sum())\n",
    "\n",
    "#sample required number of rows\n",
    "ai_ld_ts = ai_ld_ts.sample(n=250, random_state=None)\n",
    "ai_sd_ts = ai_sd_ts.sample(n=250, random_state=None)\n",
    "hu_ts = hu_ts.sample(n=500, random_state=None)  # Adjusted to sample 500 rows\n",
    "\n",
    "test = pd.concat([ai_ld_ts, ai_sd_ts, hu_ts], ignore_index=True)\n",
    "test.drop(\"style\", axis=1, inplace=True)\n",
    "test['gen'] = test['gen'].apply(lambda x: 1 if x == 'HU' else 0)\n",
    "print(test.iloc[:, 0])"
   ]
  },
  {
   "cell_type": "code",
   "execution_count": 3,
   "metadata": {},
   "outputs": [],
   "source": [
    "from sklearn.preprocessing import LabelEncoder\n",
    "from tensorflow.keras.utils import to_categorical\n",
    "from tensorflow.keras.models import Sequential\n",
    "from tensorflow.keras.layers import Dense\n",
    "\n",
    "tr_labels = train.iloc[:, 0]\n",
    "tr_features = train.iloc[:, 1:]\n",
    "\n",
    "X_train, X_val, y_train, y_val = train_test_split(tr_features, tr_labels, test_size=0.2, random_state=42)\n",
    "\n",
    "encoder = LabelEncoder()\n",
    "y_train = to_categorical(encoder.fit_transform(y_train))\n",
    "y_val = to_categorical(encoder.transform(y_val))"
   ]
  },
  {
   "cell_type": "code",
   "execution_count": 4,
   "metadata": {},
   "outputs": [],
   "source": [
    "ts_labels = test.iloc[:, 0]\n",
    "X_test = test.iloc[:, 1:]\n",
    "\n",
    "encoder = LabelEncoder()\n",
    "y_test = to_categorical(encoder.fit_transform(ts_labels))"
   ]
  },
  {
   "cell_type": "code",
   "execution_count": 5,
   "metadata": {},
   "outputs": [
    {
     "name": "stderr",
     "output_type": "stream",
     "text": [
      "c:\\Python312\\Lib\\site-packages\\keras\\src\\layers\\convolutional\\base_conv.py:99: UserWarning: Do not pass an `input_shape`/`input_dim` argument to a layer. When using Sequential models, prefer using an `Input(shape)` object as the first layer in the model instead.\n",
      "  super().__init__(\n"
     ]
    }
   ],
   "source": [
    "import tensorflow as tf\n",
    "from tensorflow.keras.models import Sequential\n",
    "from tensorflow.keras.layers import Conv1D, MaxPooling1D, Flatten, Dense, Dropout\n",
    "from tensorflow.keras.optimizers import Adam\n",
    "from tensorflow.keras.callbacks import ModelCheckpoint, EarlyStopping\n",
    "import matplotlib.pyplot as plt\n",
    "\n",
    "# Define the neural network architecture\n",
    "def create_model():\n",
    "    model = Sequential([\n",
    "        Conv1D(32, 3, activation='relu', input_shape=(256, 1)),  # Convolutional layer with 32 filters and kernel size 3\n",
    "        MaxPooling1D(2),                                         # Max pooling layer\n",
    "        Conv1D(16, 3, activation='relu'),                        # Additional convolutional layer with 16 filters and kernel size 3\n",
    "        MaxPooling1D(2),                                         # Additional max pooling layer\n",
    "        Flatten(),                                               # Flatten layer\n",
    "        Dense(64, activation='relu'),                            # Fully connected layer with 64 neurons\n",
    "        Dropout(0.5),                                            # Dropout layer to reduce overfitting\n",
    "        Dense(2, activation='sigmoid')                           # Output layer with 2 neurons (assuming binary classification)\n",
    "    ])\n",
    "    return model\n",
    "\n",
    "model = create_model()\n"
   ]
  },
  {
   "cell_type": "code",
   "execution_count": 6,
   "metadata": {},
   "outputs": [
    {
     "name": "stdout",
     "output_type": "stream",
     "text": [
      "Epoch 1/40\n",
      "\u001b[1m21/25\u001b[0m \u001b[32m━━━━━━━━━━━━━━━━\u001b[0m\u001b[37m━━━━\u001b[0m \u001b[1m0s\u001b[0m 8ms/step - accuracy: 0.5173 - loss: 0.7579\n",
      "Epoch 1: val_accuracy improved from -inf to 0.78000, saving model to CNN_feat_realism.keras\n",
      "\u001b[1m25/25\u001b[0m \u001b[32m━━━━━━━━━━━━━━━━━━━━\u001b[0m\u001b[37m\u001b[0m \u001b[1m3s\u001b[0m 32ms/step - accuracy: 0.5262 - loss: 0.7465 - val_accuracy: 0.7800 - val_loss: 0.5948\n",
      "Epoch 2/40\n",
      "\u001b[1m20/25\u001b[0m \u001b[32m━━━━━━━━━━━━━━━━\u001b[0m\u001b[37m━━━━\u001b[0m \u001b[1m0s\u001b[0m 6ms/step - accuracy: 0.6851 - loss: 0.6111\n",
      "Epoch 2: val_accuracy improved from 0.78000 to 0.87500, saving model to CNN_feat_realism.keras\n",
      "\u001b[1m25/25\u001b[0m \u001b[32m━━━━━━━━━━━━━━━━━━━━\u001b[0m\u001b[37m\u001b[0m \u001b[1m0s\u001b[0m 10ms/step - accuracy: 0.6954 - loss: 0.6022 - val_accuracy: 0.8750 - val_loss: 0.4318\n",
      "Epoch 3/40\n",
      "\u001b[1m24/25\u001b[0m \u001b[32m━━━━━━━━━━━━━━━━━━━\u001b[0m\u001b[37m━\u001b[0m \u001b[1m0s\u001b[0m 7ms/step - accuracy: 0.7939 - loss: 0.4997\n",
      "Epoch 3: val_accuracy improved from 0.87500 to 0.89000, saving model to CNN_feat_realism.keras\n",
      "\u001b[1m25/25\u001b[0m \u001b[32m━━━━━━━━━━━━━━━━━━━━\u001b[0m\u001b[37m\u001b[0m \u001b[1m0s\u001b[0m 13ms/step - accuracy: 0.7943 - loss: 0.4980 - val_accuracy: 0.8900 - val_loss: 0.3550\n",
      "Epoch 4/40\n",
      "\u001b[1m19/25\u001b[0m \u001b[32m━━━━━━━━━━━━━━━\u001b[0m\u001b[37m━━━━━\u001b[0m \u001b[1m0s\u001b[0m 6ms/step - accuracy: 0.8012 - loss: 0.4700\n",
      "Epoch 4: val_accuracy improved from 0.89000 to 0.91000, saving model to CNN_feat_realism.keras\n",
      "\u001b[1m25/25\u001b[0m \u001b[32m━━━━━━━━━━━━━━━━━━━━\u001b[0m\u001b[37m\u001b[0m \u001b[1m0s\u001b[0m 11ms/step - accuracy: 0.8068 - loss: 0.4616 - val_accuracy: 0.9100 - val_loss: 0.3011\n",
      "Epoch 5/40\n",
      "\u001b[1m23/25\u001b[0m \u001b[32m━━━━━━━━━━━━━━━━━━\u001b[0m\u001b[37m━━\u001b[0m \u001b[1m0s\u001b[0m 7ms/step - accuracy: 0.8504 - loss: 0.3776\n",
      "Epoch 5: val_accuracy did not improve from 0.91000\n",
      "\u001b[1m25/25\u001b[0m \u001b[32m━━━━━━━━━━━━━━━━━━━━\u001b[0m\u001b[37m\u001b[0m \u001b[1m0s\u001b[0m 10ms/step - accuracy: 0.8505 - loss: 0.3764 - val_accuracy: 0.8950 - val_loss: 0.2854\n",
      "Epoch 6/40\n",
      "\u001b[1m22/25\u001b[0m \u001b[32m━━━━━━━━━━━━━━━━━\u001b[0m\u001b[37m━━━\u001b[0m \u001b[1m0s\u001b[0m 5ms/step - accuracy: 0.8514 - loss: 0.3695\n",
      "Epoch 6: val_accuracy did not improve from 0.91000\n",
      "\u001b[1m25/25\u001b[0m \u001b[32m━━━━━━━━━━━━━━━━━━━━\u001b[0m\u001b[37m\u001b[0m \u001b[1m0s\u001b[0m 7ms/step - accuracy: 0.8527 - loss: 0.3670 - val_accuracy: 0.9000 - val_loss: 0.2655\n",
      "Epoch 7/40\n",
      "\u001b[1m22/25\u001b[0m \u001b[32m━━━━━━━━━━━━━━━━━\u001b[0m\u001b[37m━━━\u001b[0m \u001b[1m0s\u001b[0m 5ms/step - accuracy: 0.8887 - loss: 0.3069\n",
      "Epoch 7: val_accuracy did not improve from 0.91000\n",
      "\u001b[1m25/25\u001b[0m \u001b[32m━━━━━━━━━━━━━━━━━━━━\u001b[0m\u001b[37m\u001b[0m \u001b[1m0s\u001b[0m 8ms/step - accuracy: 0.8874 - loss: 0.3083 - val_accuracy: 0.9000 - val_loss: 0.2270\n",
      "Epoch 8/40\n",
      "\u001b[1m21/25\u001b[0m \u001b[32m━━━━━━━━━━━━━━━━\u001b[0m\u001b[37m━━━━\u001b[0m \u001b[1m0s\u001b[0m 5ms/step - accuracy: 0.9102 - loss: 0.2724\n",
      "Epoch 8: val_accuracy did not improve from 0.91000\n",
      "\u001b[1m25/25\u001b[0m \u001b[32m━━━━━━━━━━━━━━━━━━━━\u001b[0m\u001b[37m\u001b[0m \u001b[1m0s\u001b[0m 7ms/step - accuracy: 0.9110 - loss: 0.2714 - val_accuracy: 0.9000 - val_loss: 0.2236\n",
      "Epoch 9/40\n",
      "\u001b[1m17/25\u001b[0m \u001b[32m━━━━━━━━━━━━━\u001b[0m\u001b[37m━━━━━━━\u001b[0m \u001b[1m0s\u001b[0m 6ms/step - accuracy: 0.9248 - loss: 0.2281\n",
      "Epoch 9: val_accuracy improved from 0.91000 to 0.92000, saving model to CNN_feat_realism.keras\n",
      "\u001b[1m25/25\u001b[0m \u001b[32m━━━━━━━━━━━━━━━━━━━━\u001b[0m\u001b[37m\u001b[0m \u001b[1m0s\u001b[0m 9ms/step - accuracy: 0.9187 - loss: 0.2355 - val_accuracy: 0.9200 - val_loss: 0.2047\n",
      "Epoch 10/40\n",
      "\u001b[1m20/25\u001b[0m \u001b[32m━━━━━━━━━━━━━━━━\u001b[0m\u001b[37m━━━━\u001b[0m \u001b[1m0s\u001b[0m 6ms/step - accuracy: 0.8965 - loss: 0.2415\n",
      "Epoch 10: val_accuracy did not improve from 0.92000\n",
      "\u001b[1m25/25\u001b[0m \u001b[32m━━━━━━━━━━━━━━━━━━━━\u001b[0m\u001b[37m\u001b[0m \u001b[1m0s\u001b[0m 9ms/step - accuracy: 0.9001 - loss: 0.2369 - val_accuracy: 0.9050 - val_loss: 0.1882\n",
      "Epoch 11/40\n",
      "\u001b[1m18/25\u001b[0m \u001b[32m━━━━━━━━━━━━━━\u001b[0m\u001b[37m━━━━━━\u001b[0m \u001b[1m0s\u001b[0m 7ms/step - accuracy: 0.8955 - loss: 0.2485\n",
      "Epoch 11: val_accuracy did not improve from 0.92000\n",
      "\u001b[1m25/25\u001b[0m \u001b[32m━━━━━━━━━━━━━━━━━━━━\u001b[0m\u001b[37m\u001b[0m \u001b[1m0s\u001b[0m 9ms/step - accuracy: 0.8983 - loss: 0.2402 - val_accuracy: 0.9200 - val_loss: 0.1975\n",
      "Epoch 12/40\n",
      "\u001b[1m21/25\u001b[0m \u001b[32m━━━━━━━━━━━━━━━━\u001b[0m\u001b[37m━━━━\u001b[0m \u001b[1m0s\u001b[0m 6ms/step - accuracy: 0.9410 - loss: 0.1819\n",
      "Epoch 12: val_accuracy did not improve from 0.92000\n",
      "\u001b[1m25/25\u001b[0m \u001b[32m━━━━━━━━━━━━━━━━━━━━\u001b[0m\u001b[37m\u001b[0m \u001b[1m0s\u001b[0m 8ms/step - accuracy: 0.9408 - loss: 0.1837 - val_accuracy: 0.8900 - val_loss: 0.2254\n",
      "Epoch 13/40\n",
      "\u001b[1m21/25\u001b[0m \u001b[32m━━━━━━━━━━━━━━━━\u001b[0m\u001b[37m━━━━\u001b[0m \u001b[1m0s\u001b[0m 10ms/step - accuracy: 0.9380 - loss: 0.1732\n",
      "Epoch 13: val_accuracy improved from 0.92000 to 0.93000, saving model to CNN_feat_realism.keras\n",
      "\u001b[1m25/25\u001b[0m \u001b[32m━━━━━━━━━━━━━━━━━━━━\u001b[0m\u001b[37m\u001b[0m \u001b[1m0s\u001b[0m 13ms/step - accuracy: 0.9363 - loss: 0.1748 - val_accuracy: 0.9300 - val_loss: 0.1875\n",
      "Epoch 14/40\n",
      "\u001b[1m24/25\u001b[0m \u001b[32m━━━━━━━━━━━━━━━━━━━\u001b[0m\u001b[37m━\u001b[0m \u001b[1m0s\u001b[0m 5ms/step - accuracy: 0.9359 - loss: 0.1605\n",
      "Epoch 14: val_accuracy did not improve from 0.93000\n",
      "\u001b[1m25/25\u001b[0m \u001b[32m━━━━━━━━━━━━━━━━━━━━\u001b[0m\u001b[37m\u001b[0m \u001b[1m0s\u001b[0m 8ms/step - accuracy: 0.9363 - loss: 0.1600 - val_accuracy: 0.9000 - val_loss: 0.2035\n",
      "Epoch 15/40\n",
      "\u001b[1m18/25\u001b[0m \u001b[32m━━━━━━━━━━━━━━\u001b[0m\u001b[37m━━━━━━\u001b[0m \u001b[1m0s\u001b[0m 7ms/step - accuracy: 0.9324 - loss: 0.1637\n",
      "Epoch 15: val_accuracy did not improve from 0.93000\n",
      "\u001b[1m25/25\u001b[0m \u001b[32m━━━━━━━━━━━━━━━━━━━━\u001b[0m\u001b[37m\u001b[0m \u001b[1m0s\u001b[0m 10ms/step - accuracy: 0.9323 - loss: 0.1680 - val_accuracy: 0.9300 - val_loss: 0.1951\n",
      "Epoch 16/40\n",
      "\u001b[1m22/25\u001b[0m \u001b[32m━━━━━━━━━━━━━━━━━\u001b[0m\u001b[37m━━━\u001b[0m \u001b[1m0s\u001b[0m 5ms/step - accuracy: 0.9440 - loss: 0.1598\n",
      "Epoch 16: val_accuracy did not improve from 0.93000\n",
      "\u001b[1m25/25\u001b[0m \u001b[32m━━━━━━━━━━━━━━━━━━━━\u001b[0m\u001b[37m\u001b[0m \u001b[1m0s\u001b[0m 8ms/step - accuracy: 0.9438 - loss: 0.1597 - val_accuracy: 0.9200 - val_loss: 0.1798\n",
      "Epoch 17/40\n",
      "\u001b[1m19/25\u001b[0m \u001b[32m━━━━━━━━━━━━━━━\u001b[0m\u001b[37m━━━━━\u001b[0m \u001b[1m0s\u001b[0m 6ms/step - accuracy: 0.9527 - loss: 0.1377\n",
      "Epoch 17: val_accuracy did not improve from 0.93000\n",
      "\u001b[1m25/25\u001b[0m \u001b[32m━━━━━━━━━━━━━━━━━━━━\u001b[0m\u001b[37m\u001b[0m \u001b[1m0s\u001b[0m 11ms/step - accuracy: 0.9510 - loss: 0.1386 - val_accuracy: 0.9050 - val_loss: 0.1971\n",
      "Epoch 18/40\n",
      "\u001b[1m20/25\u001b[0m \u001b[32m━━━━━━━━━━━━━━━━\u001b[0m\u001b[37m━━━━\u001b[0m \u001b[1m0s\u001b[0m 6ms/step - accuracy: 0.9697 - loss: 0.1207\n",
      "Epoch 18: val_accuracy did not improve from 0.93000\n",
      "\u001b[1m25/25\u001b[0m \u001b[32m━━━━━━━━━━━━━━━━━━━━\u001b[0m\u001b[37m\u001b[0m \u001b[1m0s\u001b[0m 8ms/step - accuracy: 0.9667 - loss: 0.1208 - val_accuracy: 0.9000 - val_loss: 0.1887\n",
      "Epoch 19/40\n",
      "\u001b[1m23/25\u001b[0m \u001b[32m━━━━━━━━━━━━━━━━━━\u001b[0m\u001b[37m━━\u001b[0m \u001b[1m0s\u001b[0m 5ms/step - accuracy: 0.9579 - loss: 0.1135\n",
      "Epoch 19: val_accuracy did not improve from 0.93000\n",
      "\u001b[1m25/25\u001b[0m \u001b[32m━━━━━━━━━━━━━━━━━━━━\u001b[0m\u001b[37m\u001b[0m \u001b[1m0s\u001b[0m 8ms/step - accuracy: 0.9581 - loss: 0.1132 - val_accuracy: 0.9200 - val_loss: 0.1908\n",
      "Epoch 20/40\n",
      "\u001b[1m23/25\u001b[0m \u001b[32m━━━━━━━━━━━━━━━━━━\u001b[0m\u001b[37m━━\u001b[0m \u001b[1m0s\u001b[0m 7ms/step - accuracy: 0.9467 - loss: 0.1264\n",
      "Epoch 20: val_accuracy did not improve from 0.93000\n",
      "\u001b[1m25/25\u001b[0m \u001b[32m━━━━━━━━━━━━━━━━━━━━\u001b[0m\u001b[37m\u001b[0m \u001b[1m0s\u001b[0m 9ms/step - accuracy: 0.9475 - loss: 0.1252 - val_accuracy: 0.9150 - val_loss: 0.2037\n",
      "Epoch 21/40\n",
      "\u001b[1m21/25\u001b[0m \u001b[32m━━━━━━━━━━━━━━━━\u001b[0m\u001b[37m━━━━\u001b[0m \u001b[1m0s\u001b[0m 5ms/step - accuracy: 0.9647 - loss: 0.0936\n",
      "Epoch 21: val_accuracy did not improve from 0.93000\n",
      "\u001b[1m25/25\u001b[0m \u001b[32m━━━━━━━━━━━━━━━━━━━━\u001b[0m\u001b[37m\u001b[0m \u001b[1m0s\u001b[0m 7ms/step - accuracy: 0.9638 - loss: 0.0963 - val_accuracy: 0.9150 - val_loss: 0.1973\n",
      "Epoch 21: early stopping\n",
      "Restoring model weights from the end of the best epoch: 16.\n"
     ]
    }
   ],
   "source": [
    "# Compile the model with Adam optimizer\n",
    "optimizer = Adam(learning_rate=0.001)  # Adjust the learning rate if needed\n",
    "model.compile(optimizer=optimizer, loss='binary_crossentropy', metrics=['accuracy'])\n",
    "\n",
    "# Define callbacks\n",
    "checkpoint = ModelCheckpoint(\"CNN_feat_realism.keras\", monitor='val_accuracy', verbose=1, save_best_only=True, mode='max')\n",
    "early_stopping = EarlyStopping(monitor='val_loss', patience=5, verbose=1, restore_best_weights=True)\n",
    "\n",
    "# Train the model with callbacks\n",
    "history = model.fit(X_train, y_train, validation_data=(X_val, y_val), epochs=40, batch_size=32, callbacks=[checkpoint, early_stopping])"
   ]
  },
  {
   "cell_type": "code",
   "execution_count": 10,
   "metadata": {},
   "outputs": [
    {
     "name": "stdout",
     "output_type": "stream",
     "text": [
      "\u001b[1m7/7\u001b[0m \u001b[32m━━━━━━━━━━━━━━━━━━━━\u001b[0m\u001b[37m\u001b[0m \u001b[1m0s\u001b[0m 4ms/step - accuracy: 0.9085 - loss: 0.1915 \n"
     ]
    },
    {
     "name": "stderr",
     "output_type": "stream",
     "text": [
      "No artists with labels found to put in legend.  Note that artists whose label start with an underscore are ignored when legend() is called with no argument.\n"
     ]
    },
    {
     "name": "stdout",
     "output_type": "stream",
     "text": [
      "Validation Accuracy: 0.92\n"
     ]
    },
    {
     "data": {
      "image/png": "[encoded data removed]",
      "text/plain": [
       "<Figure size 640x480 with 1 Axes>"
      ]
     },
     "metadata": {},
     "output_type": "display_data"
    }
   ],
   "source": [
    "# Evaluate the model\n",
    "loss, accuracy = model.evaluate(X_val, y_val)\n",
    "print(f'Validation Accuracy: {accuracy:.2f}')\n",
    "\n",
    "# Plot training history\n",
    "plt.plot(history.history['accuracy'])\n",
    "#plt.plot(history.history['val_accuracy'], label='Validation Accuracy')\n",
    "plt.xlabel('Epoch')\n",
    "plt.ylabel('Accuracy')\n",
    "plt.legend()\n",
    "plt.show()"
   ]
  },
  {
   "cell_type": "code",
   "execution_count": 11,
   "metadata": {},
   "outputs": [
    {
     "name": "stdout",
     "output_type": "stream",
     "text": [
      "\u001b[1m32/32\u001b[0m \u001b[32m━━━━━━━━━━━━━━━━━━━━\u001b[0m\u001b[37m\u001b[0m \u001b[1m0s\u001b[0m 3ms/step\n",
      "\u001b[1m32/32\u001b[0m \u001b[32m━━━━━━━━━━━━━━━━━━━━\u001b[0m\u001b[37m\u001b[0m \u001b[1m0s\u001b[0m 5ms/step - accuracy: 0.1828 - loss: 2.9868\n",
      "Test Accuracy: 0.47\n"
     ]
    }
   ],
   "source": [
    "predictions = model.predict(X_test)\n",
    "\n",
    "# Evaluate the predictions using appropriate metrics\n",
    "# For classification tasks\n",
    "accuracy = model.evaluate(X_test, y_test)[1]\n",
    "print(f'Test Accuracy: {accuracy:.2f}')"
   ]
  }
 ],
 "metadata": {
  "kernelspec": {
   "display_name": "Python 3",
   "language": "python",
   "name": "python3"
  },
  "language_info": {
   "codemirror_mode": {
    "name": "ipython",
    "version": 3
   },
   "file_extension": ".py",
   "mimetype": "text/x-python",
   "name": "python",
   "nbconvert_exporter": "python",
   "pygments_lexer": "ipython3",
   "version": "3.12.3"
  }
 },
 "nbformat": 4,
 "nbformat_minor": 2
}

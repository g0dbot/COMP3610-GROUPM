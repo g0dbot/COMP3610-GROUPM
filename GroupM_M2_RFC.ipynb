{
 "cells": [
  {
   "cell_type": "markdown",
   "id": "ef3f50fa",
   "metadata": {},
   "source": [
    "# Importing Libraries"
   ]
  },
  {
   "cell_type": "code",
   "execution_count": 1,
   "id": "c1f88b10",
   "metadata": {},
   "outputs": [],
   "source": [
    "import pandas as pd\n",
    "from sklearn.ensemble import RandomForestClassifier\n",
    "from sklearn.model_selection import train_test_split\n",
    "from sklearn.metrics import confusion_matrix, f1_score, accuracy_score"
   ]
  },
  {
   "cell_type": "markdown",
   "id": "1f3cb1dc",
   "metadata": {},
   "source": [
    "# Loading Data"
   ]
  },
  {
   "cell_type": "markdown",
   "id": "7d5ba3c0",
   "metadata": {},
   "source": [
    "Loading extracted features into a dataframe and adding the relevant labels."
   ]
  },
  {
   "cell_type": "code",
   "execution_count": 2,
   "id": "421a198a",
   "metadata": {},
   "outputs": [],
   "source": [
    "#Human Art\n",
    "x_1 = pd.read_csv('train/art_nouveau.csv', header=None)\n",
    "x_1.insert(256, \"label\", [0 for x in range(len(x_1))])\n",
    "\n",
    "#AI_LD Art\n",
    "x_2 = pd.read_csv('train/AI_LD_art_nouveau.csv', header=None)\n",
    "x_2.insert(256, \"label\", [1 for x in range(len(x_2))])\n",
    "\n",
    "#AI_SD Art\n",
    "x_3 = pd.read_csv('train/AI_SD_art_nouveau.csv', header=None)\n",
    "x_3.insert(256, \"label\", [1 for x in range(len(x_3))])"
   ]
  },
  {
   "cell_type": "markdown",
   "id": "deed634d",
   "metadata": {},
   "source": [
    "Creating a dataset with Human and AI_SD Art. A random sample of 5000 rows were taken from AI_SD to maintain a even split."
   ]
  },
  {
   "cell_type": "code",
   "execution_count": 3,
   "id": "54a72de8",
   "metadata": {},
   "outputs": [],
   "source": [
    "X = pd.concat([x_1, x_3.sample(n=5000)], axis=0)\n",
    "X = X.sample(frac=1).reset_index(drop=True)\n",
    "y = X[X.columns[256]]\n",
    "X.drop(X.columns[[256]], axis=1, inplace=True)"
   ]
  },
  {
   "cell_type": "markdown",
   "id": "0cd070ab",
   "metadata": {},
   "source": [
    "# Creating Binary Classification Model"
   ]
  },
  {
   "cell_type": "markdown",
   "id": "25b3a8d6",
   "metadata": {},
   "source": [
    "Generating training and testing sets"
   ]
  },
  {
   "cell_type": "code",
   "execution_count": 4,
   "id": "b44d965e",
   "metadata": {},
   "outputs": [],
   "source": [
    "X_train, X_test, y_train, y_test = train_test_split(X, y)"
   ]
  },
  {
   "cell_type": "markdown",
   "id": "1d508f0f",
   "metadata": {},
   "source": [
    "Training a Random Forest Classifier"
   ]
  },
  {
   "cell_type": "code",
   "execution_count": 5,
   "id": "b2a266b4",
   "metadata": {},
   "outputs": [],
   "source": [
    "clf = RandomForestClassifier(n_estimators=500, max_depth=4, max_features=15).fit(X_train, y_train)"
   ]
  },
  {
   "cell_type": "markdown",
   "id": "79995c12",
   "metadata": {},
   "source": [
    "Confusion Matrix"
   ]
  },
  {
   "cell_type": "code",
   "execution_count": 6,
   "id": "6dfd0571",
   "metadata": {},
   "outputs": [
    {
     "data": {
      "text/plain": [
       "array([[1187,   36],\n",
       "       [  21, 1256]], dtype=int64)"
      ]
     },
     "execution_count": 6,
     "metadata": {},
     "output_type": "execute_result"
    }
   ],
   "source": [
    "prediction = clf.predict(X_test)\n",
    "confusion_matrix(y_test, prediction)"
   ]
  },
  {
   "cell_type": "markdown",
   "id": "6a078f0c",
   "metadata": {},
   "source": [
    "Accuracy"
   ]
  },
  {
   "cell_type": "code",
   "execution_count": 7,
   "id": "8d262b34",
   "metadata": {},
   "outputs": [
    {
     "data": {
      "text/plain": [
       "0.9772"
      ]
     },
     "execution_count": 7,
     "metadata": {},
     "output_type": "execute_result"
    }
   ],
   "source": [
    "accuracy_score(y_test, prediction)"
   ]
  },
  {
   "cell_type": "markdown",
   "id": "8cc952be",
   "metadata": {},
   "source": [
    "F1 score"
   ]
  },
  {
   "cell_type": "code",
   "execution_count": 8,
   "id": "e4b92649",
   "metadata": {},
   "outputs": [
    {
     "data": {
      "text/plain": [
       "0.9778123783573375"
      ]
     },
     "execution_count": 8,
     "metadata": {},
     "output_type": "execute_result"
    }
   ],
   "source": [
    "f1_score(y_test, prediction)"
   ]
  },
  {
   "cell_type": "code",
   "execution_count": null,
   "id": "833c86f4",
   "metadata": {},
   "outputs": [],
   "source": []
  }
 ],
 "metadata": {
  "kernelspec": {
   "display_name": "Python 3 (ipykernel)",
   "language": "python",
   "name": "python3"
  },
  "language_info": {
   "codemirror_mode": {
    "name": "ipython",
    "version": 3
   },
   "file_extension": ".py",
   "mimetype": "text/x-python",
   "name": "python",
   "nbconvert_exporter": "python",
   "pygments_lexer": "ipython3",
   "version": "3.11.5"
  }
 },
 "nbformat": 4,
 "nbformat_minor": 5
}

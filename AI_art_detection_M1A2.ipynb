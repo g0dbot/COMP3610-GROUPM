{
 "cells": [
  {
   "cell_type": "markdown",
   "metadata": {},
   "source": [
    "# Project Setup"
   ]
  },
  {
   "cell_type": "markdown",
   "metadata": {},
   "source": [
    "## Installing Required Libraries"
   ]
  },
  {
   "cell_type": "markdown",
   "metadata": {},
   "source": [
    "Installing the libraries required by this project"
   ]
  },
  {
   "cell_type": "code",
   "execution_count": 3,
   "metadata": {},
   "outputs": [
    {
     "name": "stdout",
     "output_type": "stream",
     "text": [
      "Defaulting to user installation because normal site-packages is not writeable\n",
      "Requirement already satisfied: tensorflow in c:\\users\\chimera\\appdata\\roaming\\python\\python311\\site-packages (2.16.1)\n",
      "Requirement already satisfied: tensorflow-intel==2.16.1 in c:\\users\\chimera\\appdata\\roaming\\python\\python311\\site-packages (from tensorflow) (2.16.1)\n",
      "Requirement already satisfied: absl-py>=1.0.0 in c:\\users\\chimera\\appdata\\roaming\\python\\python311\\site-packages (from tensorflow-intel==2.16.1->tensorflow) (2.1.0)\n",
      "Requirement already satisfied: astunparse>=1.6.0 in c:\\users\\chimera\\appdata\\roaming\\python\\python311\\site-packages (from tensorflow-intel==2.16.1->tensorflow) (1.6.3)\n",
      "Requirement already satisfied: flatbuffers>=23.5.26 in c:\\users\\chimera\\appdata\\roaming\\python\\python311\\site-packages (from tensorflow-intel==2.16.1->tensorflow) (24.3.7)\n",
      "Requirement already satisfied: gast!=0.5.0,!=0.5.1,!=0.5.2,>=0.2.1 in c:\\users\\chimera\\appdata\\roaming\\python\\python311\\site-packages (from tensorflow-intel==2.16.1->tensorflow) (0.5.4)\n",
      "Requirement already satisfied: google-pasta>=0.1.1 in c:\\users\\chimera\\appdata\\roaming\\python\\python311\\site-packages (from tensorflow-intel==2.16.1->tensorflow) (0.2.0)\n",
      "Requirement already satisfied: h5py>=3.10.0 in c:\\users\\chimera\\appdata\\roaming\\python\\python311\\site-packages (from tensorflow-intel==2.16.1->tensorflow) (3.10.0)\n",
      "Requirement already satisfied: libclang>=13.0.0 in c:\\users\\chimera\\appdata\\roaming\\python\\python311\\site-packages (from tensorflow-intel==2.16.1->tensorflow) (18.1.1)\n",
      "Requirement already satisfied: ml-dtypes~=0.3.1 in c:\\users\\chimera\\appdata\\roaming\\python\\python311\\site-packages (from tensorflow-intel==2.16.1->tensorflow) (0.3.2)\n",
      "Requirement already satisfied: opt-einsum>=2.3.2 in c:\\users\\chimera\\appdata\\roaming\\python\\python311\\site-packages (from tensorflow-intel==2.16.1->tensorflow) (3.3.0)\n",
      "Requirement already satisfied: packaging in c:\\programdata\\anaconda3\\lib\\site-packages (from tensorflow-intel==2.16.1->tensorflow) (23.1)\n",
      "Requirement already satisfied: protobuf!=4.21.0,!=4.21.1,!=4.21.2,!=4.21.3,!=4.21.4,!=4.21.5,<5.0.0dev,>=3.20.3 in c:\\programdata\\anaconda3\\lib\\site-packages (from tensorflow-intel==2.16.1->tensorflow) (3.20.3)\n",
      "Requirement already satisfied: requests<3,>=2.21.0 in c:\\programdata\\anaconda3\\lib\\site-packages (from tensorflow-intel==2.16.1->tensorflow) (2.31.0)\n",
      "Requirement already satisfied: setuptools in c:\\programdata\\anaconda3\\lib\\site-packages (from tensorflow-intel==2.16.1->tensorflow) (68.2.2)\n",
      "Requirement already satisfied: six>=1.12.0 in c:\\programdata\\anaconda3\\lib\\site-packages (from tensorflow-intel==2.16.1->tensorflow) (1.16.0)\n",
      "Requirement already satisfied: termcolor>=1.1.0 in c:\\users\\chimera\\appdata\\roaming\\python\\python311\\site-packages (from tensorflow-intel==2.16.1->tensorflow) (2.4.0)\n",
      "Requirement already satisfied: typing-extensions>=3.6.6 in c:\\programdata\\anaconda3\\lib\\site-packages (from tensorflow-intel==2.16.1->tensorflow) (4.9.0)\n",
      "Requirement already satisfied: wrapt>=1.11.0 in c:\\programdata\\anaconda3\\lib\\site-packages (from tensorflow-intel==2.16.1->tensorflow) (1.14.1)\n",
      "Requirement already satisfied: grpcio<2.0,>=1.24.3 in c:\\users\\chimera\\appdata\\roaming\\python\\python311\\site-packages (from tensorflow-intel==2.16.1->tensorflow) (1.62.1)\n",
      "Requirement already satisfied: tensorboard<2.17,>=2.16 in c:\\users\\chimera\\appdata\\roaming\\python\\python311\\site-packages (from tensorflow-intel==2.16.1->tensorflow) (2.16.2)\n",
      "Requirement already satisfied: keras>=3.0.0 in c:\\users\\chimera\\appdata\\roaming\\python\\python311\\site-packages (from tensorflow-intel==2.16.1->tensorflow) (3.1.1)\n",
      "Requirement already satisfied: tensorflow-io-gcs-filesystem>=0.23.1 in c:\\users\\chimera\\appdata\\roaming\\python\\python311\\site-packages (from tensorflow-intel==2.16.1->tensorflow) (0.31.0)\n",
      "Requirement already satisfied: numpy<2.0.0,>=1.23.5 in c:\\programdata\\anaconda3\\lib\\site-packages (from tensorflow-intel==2.16.1->tensorflow) (1.26.4)\n",
      "Requirement already satisfied: wheel<1.0,>=0.23.0 in c:\\programdata\\anaconda3\\lib\\site-packages (from astunparse>=1.6.0->tensorflow-intel==2.16.1->tensorflow) (0.41.2)\n",
      "Requirement already satisfied: rich in c:\\programdata\\anaconda3\\lib\\site-packages (from keras>=3.0.0->tensorflow-intel==2.16.1->tensorflow) (13.3.5)\n",
      "Requirement already satisfied: namex in c:\\users\\chimera\\appdata\\roaming\\python\\python311\\site-packages (from keras>=3.0.0->tensorflow-intel==2.16.1->tensorflow) (0.0.7)\n",
      "Requirement already satisfied: optree in c:\\users\\chimera\\appdata\\roaming\\python\\python311\\site-packages (from keras>=3.0.0->tensorflow-intel==2.16.1->tensorflow) (0.10.0)\n",
      "Requirement already satisfied: charset-normalizer<4,>=2 in c:\\programdata\\anaconda3\\lib\\site-packages (from requests<3,>=2.21.0->tensorflow-intel==2.16.1->tensorflow) (2.0.4)\n",
      "Requirement already satisfied: idna<4,>=2.5 in c:\\programdata\\anaconda3\\lib\\site-packages (from requests<3,>=2.21.0->tensorflow-intel==2.16.1->tensorflow) (3.4)\n",
      "Requirement already satisfied: urllib3<3,>=1.21.1 in c:\\programdata\\anaconda3\\lib\\site-packages (from requests<3,>=2.21.0->tensorflow-intel==2.16.1->tensorflow) (2.0.7)\n",
      "Requirement already satisfied: certifi>=2017.4.17 in c:\\programdata\\anaconda3\\lib\\site-packages (from requests<3,>=2.21.0->tensorflow-intel==2.16.1->tensorflow) (2024.2.2)\n",
      "Requirement already satisfied: markdown>=2.6.8 in c:\\programdata\\anaconda3\\lib\\site-packages (from tensorboard<2.17,>=2.16->tensorflow-intel==2.16.1->tensorflow) (3.4.1)\n",
      "Requirement already satisfied: tensorboard-data-server<0.8.0,>=0.7.0 in c:\\users\\chimera\\appdata\\roaming\\python\\python311\\site-packages (from tensorboard<2.17,>=2.16->tensorflow-intel==2.16.1->tensorflow) (0.7.2)\n",
      "Requirement already satisfied: werkzeug>=1.0.1 in c:\\programdata\\anaconda3\\lib\\site-packages (from tensorboard<2.17,>=2.16->tensorflow-intel==2.16.1->tensorflow) (2.2.3)\n",
      "Requirement already satisfied: MarkupSafe>=2.1.1 in c:\\programdata\\anaconda3\\lib\\site-packages (from werkzeug>=1.0.1->tensorboard<2.17,>=2.16->tensorflow-intel==2.16.1->tensorflow) (2.1.3)\n",
      "Requirement already satisfied: markdown-it-py<3.0.0,>=2.2.0 in c:\\programdata\\anaconda3\\lib\\site-packages (from rich->keras>=3.0.0->tensorflow-intel==2.16.1->tensorflow) (2.2.0)\n",
      "Requirement already satisfied: pygments<3.0.0,>=2.13.0 in c:\\programdata\\anaconda3\\lib\\site-packages (from rich->keras>=3.0.0->tensorflow-intel==2.16.1->tensorflow) (2.15.1)\n",
      "Requirement already satisfied: mdurl~=0.1 in c:\\programdata\\anaconda3\\lib\\site-packages (from markdown-it-py<3.0.0,>=2.2.0->rich->keras>=3.0.0->tensorflow-intel==2.16.1->tensorflow) (0.1.0)\n",
      "Defaulting to user installation because normal site-packages is not writeable\n",
      "Requirement already satisfied: tensorflow-hub in c:\\users\\chimera\\appdata\\roaming\\python\\python311\\site-packages (0.16.1)\n",
      "Requirement already satisfied: numpy>=1.12.0 in c:\\programdata\\anaconda3\\lib\\site-packages (from tensorflow-hub) (1.26.4)\n",
      "Requirement already satisfied: protobuf>=3.19.6 in c:\\programdata\\anaconda3\\lib\\site-packages (from tensorflow-hub) (3.20.3)\n",
      "Requirement already satisfied: tf-keras>=2.14.1 in c:\\users\\chimera\\appdata\\roaming\\python\\python311\\site-packages (from tensorflow-hub) (2.16.0)\n",
      "Requirement already satisfied: tensorflow<2.17,>=2.16 in c:\\users\\chimera\\appdata\\roaming\\python\\python311\\site-packages (from tf-keras>=2.14.1->tensorflow-hub) (2.16.1)\n",
      "Requirement already satisfied: tensorflow-intel==2.16.1 in c:\\users\\chimera\\appdata\\roaming\\python\\python311\\site-packages (from tensorflow<2.17,>=2.16->tf-keras>=2.14.1->tensorflow-hub) (2.16.1)\n",
      "Requirement already satisfied: absl-py>=1.0.0 in c:\\users\\chimera\\appdata\\roaming\\python\\python311\\site-packages (from tensorflow-intel==2.16.1->tensorflow<2.17,>=2.16->tf-keras>=2.14.1->tensorflow-hub) (2.1.0)\n",
      "Requirement already satisfied: astunparse>=1.6.0 in c:\\users\\chimera\\appdata\\roaming\\python\\python311\\site-packages (from tensorflow-intel==2.16.1->tensorflow<2.17,>=2.16->tf-keras>=2.14.1->tensorflow-hub) (1.6.3)\n",
      "Requirement already satisfied: flatbuffers>=23.5.26 in c:\\users\\chimera\\appdata\\roaming\\python\\python311\\site-packages (from tensorflow-intel==2.16.1->tensorflow<2.17,>=2.16->tf-keras>=2.14.1->tensorflow-hub) (24.3.7)\n",
      "Requirement already satisfied: gast!=0.5.0,!=0.5.1,!=0.5.2,>=0.2.1 in c:\\users\\chimera\\appdata\\roaming\\python\\python311\\site-packages (from tensorflow-intel==2.16.1->tensorflow<2.17,>=2.16->tf-keras>=2.14.1->tensorflow-hub) (0.5.4)\n",
      "Requirement already satisfied: google-pasta>=0.1.1 in c:\\users\\chimera\\appdata\\roaming\\python\\python311\\site-packages (from tensorflow-intel==2.16.1->tensorflow<2.17,>=2.16->tf-keras>=2.14.1->tensorflow-hub) (0.2.0)\n",
      "Requirement already satisfied: h5py>=3.10.0 in c:\\users\\chimera\\appdata\\roaming\\python\\python311\\site-packages (from tensorflow-intel==2.16.1->tensorflow<2.17,>=2.16->tf-keras>=2.14.1->tensorflow-hub) (3.10.0)\n",
      "Requirement already satisfied: libclang>=13.0.0 in c:\\users\\chimera\\appdata\\roaming\\python\\python311\\site-packages (from tensorflow-intel==2.16.1->tensorflow<2.17,>=2.16->tf-keras>=2.14.1->tensorflow-hub) (18.1.1)\n",
      "Requirement already satisfied: ml-dtypes~=0.3.1 in c:\\users\\chimera\\appdata\\roaming\\python\\python311\\site-packages (from tensorflow-intel==2.16.1->tensorflow<2.17,>=2.16->tf-keras>=2.14.1->tensorflow-hub) (0.3.2)\n",
      "Requirement already satisfied: opt-einsum>=2.3.2 in c:\\users\\chimera\\appdata\\roaming\\python\\python311\\site-packages (from tensorflow-intel==2.16.1->tensorflow<2.17,>=2.16->tf-keras>=2.14.1->tensorflow-hub) (3.3.0)\n",
      "Requirement already satisfied: packaging in c:\\programdata\\anaconda3\\lib\\site-packages (from tensorflow-intel==2.16.1->tensorflow<2.17,>=2.16->tf-keras>=2.14.1->tensorflow-hub) (23.1)\n",
      "Requirement already satisfied: requests<3,>=2.21.0 in c:\\programdata\\anaconda3\\lib\\site-packages (from tensorflow-intel==2.16.1->tensorflow<2.17,>=2.16->tf-keras>=2.14.1->tensorflow-hub) (2.31.0)\n",
      "Requirement already satisfied: setuptools in c:\\programdata\\anaconda3\\lib\\site-packages (from tensorflow-intel==2.16.1->tensorflow<2.17,>=2.16->tf-keras>=2.14.1->tensorflow-hub) (68.2.2)\n",
      "Requirement already satisfied: six>=1.12.0 in c:\\programdata\\anaconda3\\lib\\site-packages (from tensorflow-intel==2.16.1->tensorflow<2.17,>=2.16->tf-keras>=2.14.1->tensorflow-hub) (1.16.0)\n",
      "Requirement already satisfied: termcolor>=1.1.0 in c:\\users\\chimera\\appdata\\roaming\\python\\python311\\site-packages (from tensorflow-intel==2.16.1->tensorflow<2.17,>=2.16->tf-keras>=2.14.1->tensorflow-hub) (2.4.0)\n",
      "Requirement already satisfied: typing-extensions>=3.6.6 in c:\\programdata\\anaconda3\\lib\\site-packages (from tensorflow-intel==2.16.1->tensorflow<2.17,>=2.16->tf-keras>=2.14.1->tensorflow-hub) (4.9.0)\n",
      "Requirement already satisfied: wrapt>=1.11.0 in c:\\programdata\\anaconda3\\lib\\site-packages (from tensorflow-intel==2.16.1->tensorflow<2.17,>=2.16->tf-keras>=2.14.1->tensorflow-hub) (1.14.1)\n",
      "Requirement already satisfied: grpcio<2.0,>=1.24.3 in c:\\users\\chimera\\appdata\\roaming\\python\\python311\\site-packages (from tensorflow-intel==2.16.1->tensorflow<2.17,>=2.16->tf-keras>=2.14.1->tensorflow-hub) (1.62.1)\n",
      "Requirement already satisfied: tensorboard<2.17,>=2.16 in c:\\users\\chimera\\appdata\\roaming\\python\\python311\\site-packages (from tensorflow-intel==2.16.1->tensorflow<2.17,>=2.16->tf-keras>=2.14.1->tensorflow-hub) (2.16.2)\n",
      "Requirement already satisfied: keras>=3.0.0 in c:\\users\\chimera\\appdata\\roaming\\python\\python311\\site-packages (from tensorflow-intel==2.16.1->tensorflow<2.17,>=2.16->tf-keras>=2.14.1->tensorflow-hub) (3.1.1)\n",
      "Requirement already satisfied: tensorflow-io-gcs-filesystem>=0.23.1 in c:\\users\\chimera\\appdata\\roaming\\python\\python311\\site-packages (from tensorflow-intel==2.16.1->tensorflow<2.17,>=2.16->tf-keras>=2.14.1->tensorflow-hub) (0.31.0)\n",
      "Requirement already satisfied: wheel<1.0,>=0.23.0 in c:\\programdata\\anaconda3\\lib\\site-packages (from astunparse>=1.6.0->tensorflow-intel==2.16.1->tensorflow<2.17,>=2.16->tf-keras>=2.14.1->tensorflow-hub) (0.41.2)\n",
      "Requirement already satisfied: rich in c:\\programdata\\anaconda3\\lib\\site-packages (from keras>=3.0.0->tensorflow-intel==2.16.1->tensorflow<2.17,>=2.16->tf-keras>=2.14.1->tensorflow-hub) (13.3.5)\n",
      "Requirement already satisfied: namex in c:\\users\\chimera\\appdata\\roaming\\python\\python311\\site-packages (from keras>=3.0.0->tensorflow-intel==2.16.1->tensorflow<2.17,>=2.16->tf-keras>=2.14.1->tensorflow-hub) (0.0.7)\n",
      "Requirement already satisfied: optree in c:\\users\\chimera\\appdata\\roaming\\python\\python311\\site-packages (from keras>=3.0.0->tensorflow-intel==2.16.1->tensorflow<2.17,>=2.16->tf-keras>=2.14.1->tensorflow-hub) (0.10.0)\n",
      "Requirement already satisfied: charset-normalizer<4,>=2 in c:\\programdata\\anaconda3\\lib\\site-packages (from requests<3,>=2.21.0->tensorflow-intel==2.16.1->tensorflow<2.17,>=2.16->tf-keras>=2.14.1->tensorflow-hub) (2.0.4)\n",
      "Requirement already satisfied: idna<4,>=2.5 in c:\\programdata\\anaconda3\\lib\\site-packages (from requests<3,>=2.21.0->tensorflow-intel==2.16.1->tensorflow<2.17,>=2.16->tf-keras>=2.14.1->tensorflow-hub) (3.4)\n",
      "Requirement already satisfied: urllib3<3,>=1.21.1 in c:\\programdata\\anaconda3\\lib\\site-packages (from requests<3,>=2.21.0->tensorflow-intel==2.16.1->tensorflow<2.17,>=2.16->tf-keras>=2.14.1->tensorflow-hub) (2.0.7)\n",
      "Requirement already satisfied: certifi>=2017.4.17 in c:\\programdata\\anaconda3\\lib\\site-packages (from requests<3,>=2.21.0->tensorflow-intel==2.16.1->tensorflow<2.17,>=2.16->tf-keras>=2.14.1->tensorflow-hub) (2024.2.2)\n",
      "Requirement already satisfied: markdown>=2.6.8 in c:\\programdata\\anaconda3\\lib\\site-packages (from tensorboard<2.17,>=2.16->tensorflow-intel==2.16.1->tensorflow<2.17,>=2.16->tf-keras>=2.14.1->tensorflow-hub) (3.4.1)\n",
      "Requirement already satisfied: tensorboard-data-server<0.8.0,>=0.7.0 in c:\\users\\chimera\\appdata\\roaming\\python\\python311\\site-packages (from tensorboard<2.17,>=2.16->tensorflow-intel==2.16.1->tensorflow<2.17,>=2.16->tf-keras>=2.14.1->tensorflow-hub) (0.7.2)\n",
      "Requirement already satisfied: werkzeug>=1.0.1 in c:\\programdata\\anaconda3\\lib\\site-packages (from tensorboard<2.17,>=2.16->tensorflow-intel==2.16.1->tensorflow<2.17,>=2.16->tf-keras>=2.14.1->tensorflow-hub) (2.2.3)\n",
      "Requirement already satisfied: MarkupSafe>=2.1.1 in c:\\programdata\\anaconda3\\lib\\site-packages (from werkzeug>=1.0.1->tensorboard<2.17,>=2.16->tensorflow-intel==2.16.1->tensorflow<2.17,>=2.16->tf-keras>=2.14.1->tensorflow-hub) (2.1.3)\n",
      "Requirement already satisfied: markdown-it-py<3.0.0,>=2.2.0 in c:\\programdata\\anaconda3\\lib\\site-packages (from rich->keras>=3.0.0->tensorflow-intel==2.16.1->tensorflow<2.17,>=2.16->tf-keras>=2.14.1->tensorflow-hub) (2.2.0)\n",
      "Requirement already satisfied: pygments<3.0.0,>=2.13.0 in c:\\programdata\\anaconda3\\lib\\site-packages (from rich->keras>=3.0.0->tensorflow-intel==2.16.1->tensorflow<2.17,>=2.16->tf-keras>=2.14.1->tensorflow-hub) (2.15.1)\n",
      "Requirement already satisfied: mdurl~=0.1 in c:\\programdata\\anaconda3\\lib\\site-packages (from markdown-it-py<3.0.0,>=2.2.0->rich->keras>=3.0.0->tensorflow-intel==2.16.1->tensorflow<2.17,>=2.16->tf-keras>=2.14.1->tensorflow-hub) (0.1.0)\n",
      "Defaulting to user installation because normal site-packages is not writeable\n",
      "Requirement already satisfied: scikit-learn in c:\\programdata\\anaconda3\\lib\\site-packages (1.2.2)\n",
      "Requirement already satisfied: numpy>=1.17.3 in c:\\programdata\\anaconda3\\lib\\site-packages (from scikit-learn) (1.26.4)\n",
      "Requirement already satisfied: scipy>=1.3.2 in c:\\programdata\\anaconda3\\lib\\site-packages (from scikit-learn) (1.11.4)\n",
      "Requirement already satisfied: joblib>=1.1.1 in c:\\programdata\\anaconda3\\lib\\site-packages (from scikit-learn) (1.2.0)\n",
      "Requirement already satisfied: threadpoolctl>=2.0.0 in c:\\programdata\\anaconda3\\lib\\site-packages (from scikit-learn) (2.2.0)\n",
      "Defaulting to user installation because normal site-packages is not writeable\n",
      "Requirement already satisfied: keras-tuner in c:\\users\\chimera\\appdata\\roaming\\python\\python311\\site-packages (1.4.7)\n",
      "Requirement already satisfied: keras in c:\\users\\chimera\\appdata\\roaming\\python\\python311\\site-packages (from keras-tuner) (3.1.1)\n",
      "Requirement already satisfied: packaging in c:\\programdata\\anaconda3\\lib\\site-packages (from keras-tuner) (23.1)\n",
      "Requirement already satisfied: requests in c:\\programdata\\anaconda3\\lib\\site-packages (from keras-tuner) (2.31.0)\n",
      "Requirement already satisfied: kt-legacy in c:\\users\\chimera\\appdata\\roaming\\python\\python311\\site-packages (from keras-tuner) (1.0.5)\n",
      "Requirement already satisfied: absl-py in c:\\users\\chimera\\appdata\\roaming\\python\\python311\\site-packages (from keras->keras-tuner) (2.1.0)\n",
      "Requirement already satisfied: numpy in c:\\programdata\\anaconda3\\lib\\site-packages (from keras->keras-tuner) (1.26.4)\n",
      "Requirement already satisfied: rich in c:\\programdata\\anaconda3\\lib\\site-packages (from keras->keras-tuner) (13.3.5)\n",
      "Requirement already satisfied: namex in c:\\users\\chimera\\appdata\\roaming\\python\\python311\\site-packages (from keras->keras-tuner) (0.0.7)\n",
      "Requirement already satisfied: h5py in c:\\users\\chimera\\appdata\\roaming\\python\\python311\\site-packages (from keras->keras-tuner) (3.10.0)\n",
      "Requirement already satisfied: optree in c:\\users\\chimera\\appdata\\roaming\\python\\python311\\site-packages (from keras->keras-tuner) (0.10.0)\n",
      "Requirement already satisfied: ml-dtypes in c:\\users\\chimera\\appdata\\roaming\\python\\python311\\site-packages (from keras->keras-tuner) (0.3.2)\n",
      "Requirement already satisfied: charset-normalizer<4,>=2 in c:\\programdata\\anaconda3\\lib\\site-packages (from requests->keras-tuner) (2.0.4)\n",
      "Requirement already satisfied: idna<4,>=2.5 in c:\\programdata\\anaconda3\\lib\\site-packages (from requests->keras-tuner) (3.4)\n",
      "Requirement already satisfied: urllib3<3,>=1.21.1 in c:\\programdata\\anaconda3\\lib\\site-packages (from requests->keras-tuner) (2.0.7)\n",
      "Requirement already satisfied: certifi>=2017.4.17 in c:\\programdata\\anaconda3\\lib\\site-packages (from requests->keras-tuner) (2024.2.2)\n",
      "Requirement already satisfied: typing-extensions>=4.0.0 in c:\\programdata\\anaconda3\\lib\\site-packages (from optree->keras->keras-tuner) (4.9.0)\n",
      "Requirement already satisfied: markdown-it-py<3.0.0,>=2.2.0 in c:\\programdata\\anaconda3\\lib\\site-packages (from rich->keras->keras-tuner) (2.2.0)\n",
      "Requirement already satisfied: pygments<3.0.0,>=2.13.0 in c:\\programdata\\anaconda3\\lib\\site-packages (from rich->keras->keras-tuner) (2.15.1)\n",
      "Requirement already satisfied: mdurl~=0.1 in c:\\programdata\\anaconda3\\lib\\site-packages (from markdown-it-py<3.0.0,>=2.2.0->rich->keras->keras-tuner) (0.1.0)\n",
      "Defaulting to user installation because normal site-packages is not writeable\n",
      "Requirement already satisfied: numpy in c:\\programdata\\anaconda3\\lib\\site-packages (1.26.4)\n",
      "Defaulting to user installation because normal site-packages is not writeable\n",
      "Requirement already satisfied: pandas in c:\\programdata\\anaconda3\\lib\\site-packages (2.1.4)\n",
      "Requirement already satisfied: numpy<2,>=1.23.2 in c:\\programdata\\anaconda3\\lib\\site-packages (from pandas) (1.26.4)\n",
      "Requirement already satisfied: python-dateutil>=2.8.2 in c:\\programdata\\anaconda3\\lib\\site-packages (from pandas) (2.8.2)\n",
      "Requirement already satisfied: pytz>=2020.1 in c:\\programdata\\anaconda3\\lib\\site-packages (from pandas) (2023.3.post1)\n",
      "Requirement already satisfied: tzdata>=2022.1 in c:\\programdata\\anaconda3\\lib\\site-packages (from pandas) (2023.3)\n",
      "Requirement already satisfied: six>=1.5 in c:\\programdata\\anaconda3\\lib\\site-packages (from python-dateutil>=2.8.2->pandas) (1.16.0)\n",
      "Defaulting to user installation because normal site-packages is not writeable\n",
      "Requirement already satisfied: seaborn in c:\\programdata\\anaconda3\\lib\\site-packages (0.12.2)\n",
      "Requirement already satisfied: numpy!=1.24.0,>=1.17 in c:\\programdata\\anaconda3\\lib\\site-packages (from seaborn) (1.26.4)\n",
      "Requirement already satisfied: pandas>=0.25 in c:\\programdata\\anaconda3\\lib\\site-packages (from seaborn) (2.1.4)\n",
      "Requirement already satisfied: matplotlib!=3.6.1,>=3.1 in c:\\programdata\\anaconda3\\lib\\site-packages (from seaborn) (3.8.0)\n",
      "Requirement already satisfied: contourpy>=1.0.1 in c:\\programdata\\anaconda3\\lib\\site-packages (from matplotlib!=3.6.1,>=3.1->seaborn) (1.2.0)\n",
      "Requirement already satisfied: cycler>=0.10 in c:\\programdata\\anaconda3\\lib\\site-packages (from matplotlib!=3.6.1,>=3.1->seaborn) (0.11.0)\n",
      "Requirement already satisfied: fonttools>=4.22.0 in c:\\programdata\\anaconda3\\lib\\site-packages (from matplotlib!=3.6.1,>=3.1->seaborn) (4.25.0)\n",
      "Requirement already satisfied: kiwisolver>=1.0.1 in c:\\programdata\\anaconda3\\lib\\site-packages (from matplotlib!=3.6.1,>=3.1->seaborn) (1.4.4)\n",
      "Requirement already satisfied: packaging>=20.0 in c:\\programdata\\anaconda3\\lib\\site-packages (from matplotlib!=3.6.1,>=3.1->seaborn) (23.1)\n",
      "Requirement already satisfied: pillow>=6.2.0 in c:\\programdata\\anaconda3\\lib\\site-packages (from matplotlib!=3.6.1,>=3.1->seaborn) (10.2.0)\n",
      "Requirement already satisfied: pyparsing>=2.3.1 in c:\\programdata\\anaconda3\\lib\\site-packages (from matplotlib!=3.6.1,>=3.1->seaborn) (3.0.9)\n",
      "Requirement already satisfied: python-dateutil>=2.7 in c:\\programdata\\anaconda3\\lib\\site-packages (from matplotlib!=3.6.1,>=3.1->seaborn) (2.8.2)\n",
      "Requirement already satisfied: pytz>=2020.1 in c:\\programdata\\anaconda3\\lib\\site-packages (from pandas>=0.25->seaborn) (2023.3.post1)\n",
      "Requirement already satisfied: tzdata>=2022.1 in c:\\programdata\\anaconda3\\lib\\site-packages (from pandas>=0.25->seaborn) (2023.3)\n",
      "Requirement already satisfied: six>=1.5 in c:\\programdata\\anaconda3\\lib\\site-packages (from python-dateutil>=2.7->matplotlib!=3.6.1,>=3.1->seaborn) (1.16.0)\n",
      "Defaulting to user installation because normal site-packages is not writeable\n",
      "Requirement already satisfied: matplotlib in c:\\programdata\\anaconda3\\lib\\site-packages (3.8.0)\n",
      "Requirement already satisfied: contourpy>=1.0.1 in c:\\programdata\\anaconda3\\lib\\site-packages (from matplotlib) (1.2.0)\n",
      "Requirement already satisfied: cycler>=0.10 in c:\\programdata\\anaconda3\\lib\\site-packages (from matplotlib) (0.11.0)\n",
      "Requirement already satisfied: fonttools>=4.22.0 in c:\\programdata\\anaconda3\\lib\\site-packages (from matplotlib) (4.25.0)\n",
      "Requirement already satisfied: kiwisolver>=1.0.1 in c:\\programdata\\anaconda3\\lib\\site-packages (from matplotlib) (1.4.4)\n",
      "Requirement already satisfied: numpy<2,>=1.21 in c:\\programdata\\anaconda3\\lib\\site-packages (from matplotlib) (1.26.4)\n",
      "Requirement already satisfied: packaging>=20.0 in c:\\programdata\\anaconda3\\lib\\site-packages (from matplotlib) (23.1)\n",
      "Requirement already satisfied: pillow>=6.2.0 in c:\\programdata\\anaconda3\\lib\\site-packages (from matplotlib) (10.2.0)\n",
      "Requirement already satisfied: pyparsing>=2.3.1 in c:\\programdata\\anaconda3\\lib\\site-packages (from matplotlib) (3.0.9)\n",
      "Requirement already satisfied: python-dateutil>=2.7 in c:\\programdata\\anaconda3\\lib\\site-packages (from matplotlib) (2.8.2)\n",
      "Requirement already satisfied: six>=1.5 in c:\\programdata\\anaconda3\\lib\\site-packages (from python-dateutil>=2.7->matplotlib) (1.16.0)\n"
     ]
    }
   ],
   "source": [
    "!pip install tensorflow\n",
    "!pip install tensorflow-hub\n",
    "!pip install scikit-learn\n",
    "!pip install keras-tuner\n",
    "! pip install numpy\n",
    "! pip install pandas\n",
    "!pip install seaborn \n",
    "!pip install matplotlib"
   ]
  },
  {
   "cell_type": "markdown",
   "metadata": {},
   "source": [
    "# Feature Extraction"
   ]
  },
  {
   "cell_type": "markdown",
   "metadata": {},
   "source": [
    "## Data Preprocessing"
   ]
  },
  {
   "cell_type": "markdown",
   "metadata": {},
   "source": [
    "It was noted that some of the folders, in particular the art style ukiyo e had different names for the folders across the Latend Diffusion, Stable DIffusion and Human Samples. Considerations we made and the folders were renamed \"ukiyo-e\" across the test and train samples to help with the functions created to auto train and test"
   ]
  },
  {
   "cell_type": "code",
   "execution_count": 49,
   "metadata": {},
   "outputs": [],
   "source": [
    "import tensorflow as tf\n",
    "from tensorflow import keras\n",
    "from keras.applications.vgg16 import VGG16\n",
    "from keras.applications.resnet50 import ResNet50\n",
    "from keras.preprocessing import image_dataset_from_directory\n",
    "import numpy as np\n",
    "import pandas as pd\n",
    "from keras.applications.vgg16 import preprocess_input as vgg_preprocessor\n",
    "from keras.applications.resnet50 import preprocess_input as resnet_preprocessor\n",
    "from pathlib import Path\n",
    "import shutil\n",
    "from keras.callbacks import EarlyStopping,ModelCheckpoint\n",
    "from keras.layers import Rescaling, Conv2D, GlobalAveragePooling2D,MaxPooling2D, Flatten, Dense, BatchNormalization, Activation, Dropout\n",
    "from keras.models import Sequential\n",
    "from keras.optimizers import Adam\n",
    "img_height = 256\n",
    "img_width = 256\n",
    "\n",
    "DATASET_SIZE = 500"
   ]
  },
  {
   "cell_type": "markdown",
   "metadata": {},
   "source": [
    "Creating a reference to the base location of all the files"
   ]
  },
  {
   "cell_type": "code",
   "execution_count": 23,
   "metadata": {},
   "outputs": [],
   "source": [
    "import os #used in this instance to get the relative location of the notebook\n",
    "\n",
    "#set the base directory NB windows using relative paths causes errors\n",
    "BASE_LOC = os.path.join(os.getcwd(), 'Real_AI_SD_LD_Dataset')\n",
    "TRAIN_DATA_PATH = os.path.join(BASE_LOC, 'temp_train')\n",
    "TEST_DATA_PATH = os.path.join(BASE_LOC, 'temp_test')"
   ]
  },
  {
   "cell_type": "markdown",
   "metadata": {},
   "source": [
    "Creating a filtered directory with only data for an Artstyle and an AI generator"
   ]
  },
  {
   "cell_type": "code",
   "execution_count": 20,
   "metadata": {},
   "outputs": [],
   "source": [
    "# def copy_dir(src,dest):\n",
    "#   if Path(dest).exists():\n",
    "#     shutil.rmtree(dest)\n",
    "#   shutil.copytree(src,dest)\n",
    "\n",
    "def copy_dir(src, dest):\n",
    "    if Path(dest).exists():\n",
    "        shutil.rmtree(dest)\n",
    "\n",
    "    os.makedirs(dest, exist_ok=True)\n",
    "\n",
    "    files_copied = 0\n",
    "    for root, dirs, files in os.walk(src):\n",
    "        for file in files:\n",
    "            src_file_path = os.path.join(root, file)\n",
    "            dest_file_path = os.path.join(dest, os.path.relpath(src_file_path, src))\n",
    "            os.makedirs(os.path.dirname(dest_file_path), exist_ok=True)\n",
    "            shutil.copy(src_file_path, dest_file_path)\n",
    "            files_copied += 1\n",
    "\n",
    "            if DATASET_SIZE  is not None and files_copied >= DATASET_SIZE :\n",
    "                return\n",
    "\n",
    "def filter_imageset(ai,art_style):\n",
    "  ai_src = f\"AI_{ai}_{art_style}\"\n",
    "\n",
    "  #temp directories /content/Real_AI_SD_LD_Dataset/train/AI_LD_art_nouveau\n",
    "\n",
    "  train_ai_folder = os.path.join(TRAIN_DATA_PATH,ai_src) #destination folder in temp_train for AI images\n",
    "  test_ai_folder = os.path.join(TEST_DATA_PATH,ai_src) #destination folder in temp_test for AI images\n",
    "\n",
    "  train_human_folder = os.path.join(TRAIN_DATA_PATH,art_style) #destination folder in temp_train for Human images\n",
    "  test_human_folder = os.path.join(TEST_DATA_PATH,art_style) #destination folder in temp_test for Human images\n",
    "\n",
    "  train_dir = os.path.join(BASE_LOC,\"train\") #directory in \\Real_AI_SD_LD_Dataset that contains training images\n",
    "  test_dir = os.path.join(BASE_LOC,\"test\") #directory in \\Real_AI_SD_LD_Dataset that contains testing images\n",
    "\n",
    "  #copying AI images\n",
    "  copy_dir(\n",
    "    os.path.join(train_dir,ai_src),\n",
    "    train_ai_folder\n",
    "  )\n",
    "  copy_dir(\n",
    "    os.path.join(test_dir,ai_src),\n",
    "    test_ai_folder\n",
    "  )\n",
    "\n",
    "  #copying Human images\n",
    "  copy_dir(\n",
    "    os.path.join(train_dir,art_style),\n",
    "    train_human_folder\n",
    "  )\n",
    "  copy_dir(\n",
    "    os.path.join(test_dir,art_style),\n",
    "    test_human_folder\n",
    "  )\n",
    "  "
   ]
  },
  {
   "cell_type": "markdown",
   "metadata": {},
   "source": [
    "### Preprocessing Function"
   ]
  },
  {
   "cell_type": "code",
   "execution_count": 32,
   "metadata": {},
   "outputs": [],
   "source": [
    "def generic_preprocessor(image, label):\n",
    "    image = tf.image.resize(image, [img_height, img_width])\n",
    "    image = image / 255.0\n",
    "    image = tf.image.random_rotation(image, 7)\n",
    "    \n",
    "    image = tf.image.random_flip_left_right(image)\n",
    "    \n",
    "    zoom_factor = tf.random.uniform([], 0.8, 1.2) \n",
    "    image = tf.image.resize(image, [img_height*zoom_factor, img_width*zoom_factor])\n",
    "    image = tf.image.resize_with_crop_or_pad(image, img_height, img_width)\n",
    "    \n",
    "    return image, label\n",
    "\n",
    "def get_image_data(ai,art_style):\n",
    "      filter_imageset(ai,art_style)\n",
    "      ai_src = f\"AI_{ai}_{art_style}\"\n",
    "      train = validate = test = None\n",
    "      classes = [ai_src, art_style]\n",
    "      train = image_dataset_from_directory(\n",
    "            TRAIN_DATA_PATH,\n",
    "            validation_split=0.2,\n",
    "            label_mode=\"binary\",\n",
    "            labels = 'inferred',\n",
    "            class_names=classes,\n",
    "            subset = \"training\",\n",
    "            seed=64,\n",
    "            image_size = (img_height, img_width),\n",
    "            batch_size = 32,\n",
    "      )\n",
    "      validate = image_dataset_from_directory(\n",
    "            TRAIN_DATA_PATH,\n",
    "            validation_split=0.2,\n",
    "            label_mode=\"binary\",\n",
    "            labels = 'inferred',\n",
    "            class_names=classes,\n",
    "            subset = \"validation\",\n",
    "            seed=64,\n",
    "            image_size = (img_height, img_width),\n",
    "            batch_size = 32,\n",
    "      )\n",
    "      test = image_dataset_from_directory(\n",
    "            TEST_DATA_PATH,\n",
    "            label_mode=\"binary\",\n",
    "            labels=\"inferred\",\n",
    "            class_names=classes,\n",
    "            seed=64,\n",
    "            image_size = (img_height, img_width),\n",
    "            batch_size = 32,\n",
    "      )\n",
    "      AUTOTUNE = tf.data.AUTOTUNE\n",
    "\n",
    "      train = train.cache().shuffle(500).prefetch(buffer_size=AUTOTUNE)\n",
    "      validate = validate.cache().prefetch(buffer_size=AUTOTUNE)\n",
    "      test = test.cache().prefetch(buffer_size=AUTOTUNE)\n",
    "\n",
    "\n",
    "      return train,validate,test"
   ]
  },
  {
   "cell_type": "markdown",
   "metadata": {},
   "source": [
    "# Individual Classifier Models"
   ]
  },
  {
   "cell_type": "code",
   "execution_count": 82,
   "metadata": {},
   "outputs": [],
   "source": [
    "NUM_EPOCHS = 5\n",
    "WEIGHT = 15\n",
    "def wicm(y_true, y_pred):\n",
    "    true_positives = tf.reduce_sum(tf.cast(tf.logical_and(tf.equal(y_true, 1), tf.equal(tf.round(y_pred), 1)), tf.float32))\n",
    "    true_negatives = tf.reduce_sum(tf.cast(tf.logical_and(tf.equal(y_true, 0), tf.equal(tf.round(y_pred), 0)), tf.float32))\n",
    "    false_positives = tf.reduce_sum(tf.cast(tf.logical_and(tf.equal(y_true, 0), tf.equal(tf.round(y_pred), 1)), tf.float32))\n",
    "    false_negatives = tf.reduce_sum(tf.cast(tf.logical_and(tf.equal(y_true, 1), tf.equal(tf.round(y_pred), 0)), tf.float32))\n",
    "    \n",
    "    metric = -((false_positives + (false_negatives * WEIGHT)) / (true_positives + true_negatives + false_positives + false_negatives))\n",
    "    return metric\n",
    "\n",
    "def train_model(model_in,train_ds,val_ds,model_name):\n",
    "  model = Sequential([\n",
    "    model_in,\n",
    "    GlobalAveragePooling2D(),\n",
    "    Dense(256, activation='relu'),\n",
    "    Dense(1, activation='sigmoid')\n",
    "  ])\n",
    "  model.compile(\n",
    "    optimizer=Adam(learning_rate=1e-3),\n",
    "    loss=keras.losses.BinaryCrossentropy(),\n",
    "    metrics=[\n",
    "        keras.metrics.BinaryAccuracy(threshold=0.5, name='accuracy'),\n",
    "        keras.metrics.FalseNegatives(),\n",
    "        keras.metrics.AUC(),\n",
    "        wicm\n",
    "    ]\n",
    ")\n",
    "  checkpoint_filepath = f\"{BASE_LOC}_{model_name}_checkpoint.keras\"\n",
    "  early_stopping = EarlyStopping(monitor='val_loss', patience=20, restore_best_weights=True)\n",
    "  checkpoint = ModelCheckpoint(checkpoint_filepath, monitor='val_accuracy', save_best_only=True, mode='max', verbose=1)\n",
    "  \n",
    "  return model.fit(\n",
    "      train_ds,\n",
    "      epochs=NUM_EPOCHS,\n",
    "      validation_data=val_ds,\n",
    "      callbacks=[early_stopping,checkpoint]\n",
    "  ),model"
   ]
  },
  {
   "cell_type": "markdown",
   "metadata": {},
   "source": [
    "## VGG16"
   ]
  },
  {
   "cell_type": "code",
   "execution_count": 83,
   "metadata": {},
   "outputs": [
    {
     "name": "stdout",
     "output_type": "stream",
     "text": [
      "Found 1000 files belonging to 2 classes.\n",
      "Using 800 files for training.\n",
      "Found 1000 files belonging to 2 classes.\n",
      "Using 200 files for validation.\n",
      "Found 1000 files belonging to 2 classes.\n",
      "Epoch 1/5\n",
      "\u001b[1m25/25\u001b[0m \u001b[32m━━━━━━━━━━━━━━━━━━━━\u001b[0m\u001b[37m\u001b[0m \u001b[1m0s\u001b[0m 3s/step - accuracy: 0.8544 - auc_15: 0.9141 - false_negatives_15: 24.8800 - loss: 0.4891 - wicm: -1.3393\n",
      "Epoch 1: val_accuracy improved from -inf to 0.98000, saving model to c:\\Users\\Chimera\\Desktop\\UWI\\AI Development\\AI art detector Project\\Proj 3610\\Code\\COMP3610-GROUPM\\Real_AI_SD_LD_Dataset_vgg_checkpoint.keras\n",
      "\u001b[1m25/25\u001b[0m \u001b[32m━━━━━━━━━━━━━━━━━━━━\u001b[0m\u001b[37m\u001b[0m \u001b[1m107s\u001b[0m 4s/step - accuracy: 0.8573 - auc_15: 0.9165 - false_negatives_15: 25.0769 - loss: 0.4795 - wicm: -1.3106 - val_accuracy: 0.9800 - val_auc_15: 0.9901 - val_false_negatives_15: 0.0000e+00 - val_loss: 0.1191 - val_wicm: -0.0179\n",
      "Epoch 2/5\n",
      "\u001b[1m25/25\u001b[0m \u001b[32m━━━━━━━━━━━━━━━━━━━━\u001b[0m\u001b[37m\u001b[0m \u001b[1m0s\u001b[0m 3s/step - accuracy: 0.9937 - auc_15: 0.9992 - false_negatives_15: 2.0800 - loss: 0.0194 - wicm: -0.0839\n",
      "Epoch 2: val_accuracy did not improve from 0.98000\n",
      "\u001b[1m25/25\u001b[0m \u001b[32m━━━━━━━━━━━━━━━━━━━━\u001b[0m\u001b[37m\u001b[0m \u001b[1m94s\u001b[0m 4s/step - accuracy: 0.9938 - auc_15: 0.9991 - false_negatives_15: 2.1154 - loss: 0.0194 - wicm: -0.0829 - val_accuracy: 0.9800 - val_auc_15: 0.9854 - val_false_negatives_15: 0.0000e+00 - val_loss: 0.1434 - val_wicm: -0.0179\n",
      "Epoch 3/5\n",
      "\u001b[1m25/25\u001b[0m \u001b[32m━━━━━━━━━━━━━━━━━━━━\u001b[0m\u001b[37m\u001b[0m \u001b[1m0s\u001b[0m 3s/step - accuracy: 0.9975 - auc_15: 1.0000 - false_negatives_15: 0.0000e+00 - loss: 0.0061 - wicm: -0.0025\n",
      "Epoch 3: val_accuracy improved from 0.98000 to 0.98500, saving model to c:\\Users\\Chimera\\Desktop\\UWI\\AI Development\\AI art detector Project\\Proj 3610\\Code\\COMP3610-GROUPM\\Real_AI_SD_LD_Dataset_vgg_checkpoint.keras\n",
      "\u001b[1m25/25\u001b[0m \u001b[32m━━━━━━━━━━━━━━━━━━━━\u001b[0m\u001b[37m\u001b[0m \u001b[1m93s\u001b[0m 4s/step - accuracy: 0.9975 - auc_15: 1.0000 - false_negatives_15: 0.0000e+00 - loss: 0.0062 - wicm: -0.0025 - val_accuracy: 0.9850 - val_auc_15: 0.9947 - val_false_negatives_15: 1.0000 - val_loss: 0.0622 - val_wicm: -0.0759\n",
      "Epoch 4/5\n",
      "\u001b[1m25/25\u001b[0m \u001b[32m━━━━━━━━━━━━━━━━━━━━\u001b[0m\u001b[37m\u001b[0m \u001b[1m0s\u001b[0m 3s/step - accuracy: 1.0000 - auc_15: 1.0000 - false_negatives_15: 0.0000e+00 - loss: 3.1727e-04 - wicm: 0.0000e+00\n",
      "Epoch 4: val_accuracy did not improve from 0.98500\n",
      "\u001b[1m25/25\u001b[0m \u001b[32m━━━━━━━━━━━━━━━━━━━━\u001b[0m\u001b[37m\u001b[0m \u001b[1m95s\u001b[0m 4s/step - accuracy: 1.0000 - auc_15: 1.0000 - false_negatives_15: 0.0000e+00 - loss: 3.1703e-04 - wicm: 0.0000e+00 - val_accuracy: 0.9850 - val_auc_15: 0.9949 - val_false_negatives_15: 0.0000e+00 - val_loss: 0.0930 - val_wicm: -0.0134\n",
      "Epoch 5/5\n",
      "\u001b[1m25/25\u001b[0m \u001b[32m━━━━━━━━━━━━━━━━━━━━\u001b[0m\u001b[37m\u001b[0m \u001b[1m0s\u001b[0m 3s/step - accuracy: 1.0000 - auc_15: 1.0000 - false_negatives_15: 0.0000e+00 - loss: 1.9449e-04 - wicm: 0.0000e+00\n",
      "Epoch 5: val_accuracy improved from 0.98500 to 0.99000, saving model to c:\\Users\\Chimera\\Desktop\\UWI\\AI Development\\AI art detector Project\\Proj 3610\\Code\\COMP3610-GROUPM\\Real_AI_SD_LD_Dataset_vgg_checkpoint.keras\n",
      "\u001b[1m25/25\u001b[0m \u001b[32m━━━━━━━━━━━━━━━━━━━━\u001b[0m\u001b[37m\u001b[0m \u001b[1m87s\u001b[0m 3s/step - accuracy: 1.0000 - auc_15: 1.0000 - false_negatives_15: 0.0000e+00 - loss: 1.9667e-04 - wicm: 0.0000e+00 - val_accuracy: 0.9900 - val_auc_15: 0.9949 - val_false_negatives_15: 0.0000e+00 - val_loss: 0.0841 - val_wicm: -0.0089\n"
     ]
    }
   ],
   "source": [
    "vgg = VGG16(weights='imagenet',include_top=False,input_shape=(img_height, img_width, 3))\n",
    "\n",
    "for layer in vgg.layers:\n",
    "    layer.trainable = False\n",
    "train,val,test = get_image_data(\n",
    "        ai=\"LD\",\n",
    "        art_style=\"art_nouveau\"\n",
    "    )\n",
    "histv,trainedvgg = train_model(vgg,train,val,'vgg')"
   ]
  },
  {
   "cell_type": "markdown",
   "metadata": {},
   "source": [
    "## ResNet-50"
   ]
  },
  {
   "cell_type": "code",
   "execution_count": 84,
   "metadata": {},
   "outputs": [
    {
     "name": "stdout",
     "output_type": "stream",
     "text": [
      "Found 1000 files belonging to 2 classes.\n",
      "Using 800 files for training.\n",
      "Found 1000 files belonging to 2 classes.\n",
      "Using 200 files for validation.\n",
      "Found 1000 files belonging to 2 classes.\n",
      "Epoch 1/5\n",
      "\u001b[1m25/25\u001b[0m \u001b[32m━━━━━━━━━━━━━━━━━━━━\u001b[0m\u001b[37m\u001b[0m \u001b[1m0s\u001b[0m 2s/step - accuracy: 0.7909 - auc_16: 0.8793 - false_negatives_16: 29.9600 - loss: 0.4701 - wicm: -1.6632\n",
      "Epoch 1: val_accuracy improved from -inf to 0.98500, saving model to c:\\Users\\Chimera\\Desktop\\UWI\\AI Development\\AI art detector Project\\Proj 3610\\Code\\COMP3610-GROUPM\\Real_AI_SD_LD_Dataset_resnet50_checkpoint.keras\n",
      "\u001b[1m25/25\u001b[0m \u001b[32m━━━━━━━━━━━━━━━━━━━━\u001b[0m\u001b[37m\u001b[0m \u001b[1m76s\u001b[0m 3s/step - accuracy: 0.7958 - auc_16: 0.8833 - false_negatives_16: 30.1923 - loss: 0.4601 - wicm: -1.6266 - val_accuracy: 0.9850 - val_auc_16: 0.9946 - val_false_negatives_16: 0.0000e+00 - val_loss: 0.0554 - val_wicm: -0.0134\n",
      "Epoch 2/5\n",
      "\u001b[1m25/25\u001b[0m \u001b[32m━━━━━━━━━━━━━━━━━━━━\u001b[0m\u001b[37m\u001b[0m \u001b[1m0s\u001b[0m 2s/step - accuracy: 0.9926 - auc_16: 0.9999 - false_negatives_16: 1.0800 - loss: 0.0178 - wicm: -0.0353\n",
      "Epoch 2: val_accuracy improved from 0.98500 to 0.99000, saving model to c:\\Users\\Chimera\\Desktop\\UWI\\AI Development\\AI art detector Project\\Proj 3610\\Code\\COMP3610-GROUPM\\Real_AI_SD_LD_Dataset_resnet50_checkpoint.keras\n",
      "\u001b[1m25/25\u001b[0m \u001b[32m━━━━━━━━━━━━━━━━━━━━\u001b[0m\u001b[37m\u001b[0m \u001b[1m59s\u001b[0m 2s/step - accuracy: 0.9927 - auc_16: 0.9999 - false_negatives_16: 1.1154 - loss: 0.0176 - wicm: -0.0355 - val_accuracy: 0.9900 - val_auc_16: 0.9994 - val_false_negatives_16: 0.0000e+00 - val_loss: 0.0334 - val_wicm: -0.0089\n",
      "Epoch 3/5\n",
      "\u001b[1m25/25\u001b[0m \u001b[32m━━━━━━━━━━━━━━━━━━━━\u001b[0m\u001b[37m\u001b[0m \u001b[1m0s\u001b[0m 2s/step - accuracy: 1.0000 - auc_16: 1.0000 - false_negatives_16: 0.0000e+00 - loss: 0.0038 - wicm: 0.0000e+00\n",
      "Epoch 3: val_accuracy did not improve from 0.99000\n",
      "\u001b[1m25/25\u001b[0m \u001b[32m━━━━━━━━━━━━━━━━━━━━\u001b[0m\u001b[37m\u001b[0m \u001b[1m60s\u001b[0m 2s/step - accuracy: 1.0000 - auc_16: 1.0000 - false_negatives_16: 0.0000e+00 - loss: 0.0038 - wicm: 0.0000e+00 - val_accuracy: 0.9900 - val_auc_16: 0.9995 - val_false_negatives_16: 0.0000e+00 - val_loss: 0.0249 - val_wicm: -0.0089\n",
      "Epoch 4/5\n",
      "\u001b[1m25/25\u001b[0m \u001b[32m━━━━━━━━━━━━━━━━━━━━\u001b[0m\u001b[37m\u001b[0m \u001b[1m0s\u001b[0m 2s/step - accuracy: 1.0000 - auc_16: 1.0000 - false_negatives_16: 0.0000e+00 - loss: 0.0012 - wicm: 0.0000e+00\n",
      "Epoch 4: val_accuracy did not improve from 0.99000\n",
      "\u001b[1m25/25\u001b[0m \u001b[32m━━━━━━━━━━━━━━━━━━━━\u001b[0m\u001b[37m\u001b[0m \u001b[1m60s\u001b[0m 2s/step - accuracy: 1.0000 - auc_16: 1.0000 - false_negatives_16: 0.0000e+00 - loss: 0.0012 - wicm: 0.0000e+00 - val_accuracy: 0.9900 - val_auc_16: 0.9996 - val_false_negatives_16: 0.0000e+00 - val_loss: 0.0267 - val_wicm: -0.0089\n",
      "Epoch 5/5\n",
      "\u001b[1m25/25\u001b[0m \u001b[32m━━━━━━━━━━━━━━━━━━━━\u001b[0m\u001b[37m\u001b[0m \u001b[1m0s\u001b[0m 2s/step - accuracy: 1.0000 - auc_16: 1.0000 - false_negatives_16: 0.0000e+00 - loss: 7.5912e-04 - wicm: 0.0000e+00\n",
      "Epoch 5: val_accuracy did not improve from 0.99000\n",
      "\u001b[1m25/25\u001b[0m \u001b[32m━━━━━━━━━━━━━━━━━━━━\u001b[0m\u001b[37m\u001b[0m \u001b[1m60s\u001b[0m 2s/step - accuracy: 1.0000 - auc_16: 1.0000 - false_negatives_16: 0.0000e+00 - loss: 7.6070e-04 - wicm: 0.0000e+00 - val_accuracy: 0.9900 - val_auc_16: 0.9995 - val_false_negatives_16: 0.0000e+00 - val_loss: 0.0368 - val_wicm: -0.0089\n"
     ]
    }
   ],
   "source": [
    "resnet = ResNet50(weights='imagenet',include_top=False,input_shape=(img_height, img_width, 3))\n",
    "\n",
    "for layer in resnet.layers:\n",
    "    layer.trainable = False\n",
    "train,val,test = get_image_data(\n",
    "        ai=\"LD\",\n",
    "        art_style=\"art_nouveau\"\n",
    "    )\n",
    "\n",
    "histr,trainedresnet = train_model(resnet,train,val,'resnet50')"
   ]
  },
  {
   "cell_type": "markdown",
   "metadata": {},
   "source": [
    "## Simple CNN"
   ]
  },
  {
   "cell_type": "code",
   "execution_count": null,
   "metadata": {},
   "outputs": [],
   "source": [
    "\n",
    "def CNN_img_ai_or_hum(filters=64, kernel_size=3, input_shape=(256, 256, 3), dense_units=64, output_units=1, activation='relu'):\n",
    "    model = Sequential([\n",
    "        Conv2D(filters=filters, kernel_size=kernel_size, activation=activation, input_shape=input_shape),\n",
    "        MaxPooling2D(),\n",
    "        Conv2D(filters=filters, kernel_size=kernel_size, activation=activation),\n",
    "        MaxPooling2D(),\n",
    "        Flatten(),\n",
    "        Dense(units=dense_units, activation=activation),\n",
    "        Dropout(0.5),\n",
    "        Dense(units=output_units, activation='sigmoid')\n",
    "    ])\n",
    "    return model\n",
    "\n",
    "cnn = CNN_img_ai_or_hum()\n",
    "trained_cnn_vgg = train_model(cnn,train,val,'simple_vgg')\n",
    "trained_cnn_resnet = train_model(cnn,train,val,'simple_resnet50')"
   ]
  },
  {
   "cell_type": "code",
   "execution_count": 86,
   "metadata": {},
   "outputs": [
    {
     "name": "stdout",
     "output_type": "stream",
     "text": [
      "\u001b[1m32/32\u001b[0m \u001b[32m━━━━━━━━━━━━━━━━━━━━\u001b[0m\u001b[37m\u001b[0m \u001b[1m88s\u001b[0m 3s/step - accuracy: 0.9919 - auc_15: 0.9959 - false_negatives_15: 3.9394 - loss: 0.0454 - wicm: -0.1008\n",
      "Test Loss: 0.03557347506284714\n",
      "Test Accuracy: 0.9929999709129333\n",
      "False Negatives: 0.9969040155410767\n",
      "AUC: 6.0\n",
      "\u001b[1m32/32\u001b[0m \u001b[32m━━━━━━━━━━━━━━━━━━━━\u001b[0m\u001b[37m\u001b[0m \u001b[1m60s\u001b[0m 2s/step - accuracy: 0.9850 - auc_16: 0.9980 - false_negatives_16: 3.0303 - loss: 0.0503 - wicm: -0.1181\n",
      "Test Loss: 0.030073510482907295\n",
      "Test Accuracy: 0.9900000095367432\n",
      "False Negatives: 0.9986740946769714\n",
      "AUC: 4.0\n"
     ]
    }
   ],
   "source": [
    "true_labels = []\n",
    "for images, labels in test:\n",
    "    true_labels.extend(labels.numpy())\n",
    "\n",
    "def evalmodel(model):\n",
    "    evaluation_result = model.evaluate(test)\n",
    "    print(\"Test Loss:\", evaluation_result[0])\n",
    "    print(\"Test Accuracy:\", evaluation_result[1])\n",
    "    print(\"False Negatives:\", evaluation_result[2])\n",
    "    print(\"AUC:\", evaluation_result[3])\n",
    "evalmodel(trainedvgg)\n",
    "evalmodel(trainedresnet)"
   ]
  },
  {
   "cell_type": "code",
   "execution_count": 87,
   "metadata": {},
   "outputs": [
    {
     "name": "stdout",
     "output_type": "stream",
     "text": [
      "\u001b[1m32/32\u001b[0m \u001b[32m━━━━━━━━━━━━━━━━━━━━\u001b[0m\u001b[37m\u001b[0m \u001b[1m87s\u001b[0m 3s/step\n",
      "\u001b[1m32/32\u001b[0m \u001b[32m━━━━━━━━━━━━━━━━━━━━\u001b[0m\u001b[37m\u001b[0m \u001b[1m67s\u001b[0m 2s/step\n"
     ]
    }
   ],
   "source": [
    "vggpredict = trainedvgg.predict(test)\n",
    "respredict = trainedresnet.predict(test)\n"
   ]
  },
  {
   "cell_type": "code",
   "execution_count": 89,
   "metadata": {},
   "outputs": [
    {
     "name": "stdout",
     "output_type": "stream",
     "text": [
      "Defaulting to user installation because normal site-packages is not writeable\n",
      "Requirement already satisfied: scikit-learn in c:\\programdata\\anaconda3\\lib\\site-packages (1.2.2)\n",
      "Requirement already satisfied: numpy>=1.17.3 in c:\\programdata\\anaconda3\\lib\\site-packages (from scikit-learn) (1.26.4)\n",
      "Requirement already satisfied: scipy>=1.3.2 in c:\\programdata\\anaconda3\\lib\\site-packages (from scikit-learn) (1.11.4)\n",
      "Requirement already satisfied: joblib>=1.1.1 in c:\\programdata\\anaconda3\\lib\\site-packages (from scikit-learn) (1.2.0)\n",
      "Requirement already satisfied: threadpoolctl>=2.0.0 in c:\\programdata\\anaconda3\\lib\\site-packages (from scikit-learn) (2.2.0)\n"
     ]
    }
   ],
   "source": [
    "!pip install scikit-learn"
   ]
  },
  {
   "cell_type": "code",
   "execution_count": 90,
   "metadata": {},
   "outputs": [
    {
     "name": "stdout",
     "output_type": "stream",
     "text": [
      "Weighted Voting Classifier F1 Score: 0.3333333333333333\n"
     ]
    }
   ],
   "source": [
    "from sklearn.metrics import f1_score\n",
    "weight_resnet = 0.7\n",
    "weight_vgg16 = 0.3\n",
    "weighted_predictions = (weight_resnet * respredict) + (weight_vgg16 * vggpredict )\n",
    "ensemble_predictions = np.argmax(weighted_predictions, axis=1)\n",
    "f1 = f1_score(true_labels, ensemble_predictions, average='macro')\n",
    "\n",
    "print(\"Weighted Voting Classifier F1 Score:\", f1)"
   ]
  }
 ],
 "metadata": {
  "kernelspec": {
   "display_name": "Python 3",
   "language": "python",
   "name": "python3"
  },
  "language_info": {
   "codemirror_mode": {
    "name": "ipython",
    "version": 3
   },
   "file_extension": ".py",
   "mimetype": "text/x-python",
   "name": "python",
   "nbconvert_exporter": "python",
   "pygments_lexer": "ipython3",
   "version": "3.12.2"
  }
 },
 "nbformat": 4,
 "nbformat_minor": 2
}
